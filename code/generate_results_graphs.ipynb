{
 "cells": [
  {
   "cell_type": "code",
   "execution_count": 137,
   "metadata": {},
   "outputs": [],
   "source": [
    "import seaborn as sn\n",
    "import matplotlib.pyplot as plt\n",
    "import sys\n",
    "import pandas"
   ]
  },
  {
   "cell_type": "code",
   "execution_count": 138,
   "metadata": {},
   "outputs": [],
   "source": [
    "sys.path.append(\"../\")"
   ]
  },
  {
   "cell_type": "markdown",
   "metadata": {},
   "source": [
    "# Formatting headers"
   ]
  },
  {
   "cell_type": "code",
   "execution_count": null,
   "metadata": {},
   "outputs": [],
   "source": [
    "satisfiable_outputs.columns = [\"model name\", \"data_name\", \"n_periods\", \"n_venues\", \"n_teams\", \"n_coaches\", \n",
    "                               \"n_teams_per_division\", \"break_duration\", \"time\", \"node\", \"nogood\"]\n",
    "unsatisfiable_outputs.columns = [\"model name\", \"data_name\", \"n_periods\", \"n_venues\", \"n_teams\", \"n_coaches\", \n",
    "                               \"n_teams_per_division\", \"break_duration\"]"
   ]
  },
  {
   "cell_type": "code",
   "execution_count": null,
   "metadata": {},
   "outputs": [],
   "source": [
    "timeout_outputs = timeout_outputs.loc[:, :7]\n",
    "timeout_outputs.columns = [\"model name\", \"data_name\", \"n_periods\", \"n_venues\", \"n_teams\", \"n_coaches\", \n",
    "                               \"n_teams_per_division\", \"break_duration\"]"
   ]
  },
  {
   "cell_type": "code",
   "execution_count": null,
   "metadata": {},
   "outputs": [],
   "source": [
    "satisfiable_outputs"
   ]
  },
  {
   "cell_type": "code",
   "execution_count": null,
   "metadata": {},
   "outputs": [],
   "source": [
    "les colonnes pour insatisfiable : model name n_periods n_venues n_teams n_coaches \"n_teams_per_division\" break_duration]"
   ]
  },
  {
   "cell_type": "markdown",
   "metadata": {},
   "source": [
    "# Performances by Complexity"
   ]
  },
  {
   "cell_type": "code",
   "execution_count": null,
   "metadata": {},
   "outputs": [],
   "source": [
    "results = pandas.read_csv(\n",
    "    \"/Users/Samuel_Levesque/Documents/GitHub/Projet_IFT7020/results/test_all_models_80_scenarios_run_2/satisfiable.out\",\n",
    "    header=None, sep=\";\")\n"
   ]
  },
  {
   "cell_type": "code",
   "execution_count": null,
   "metadata": {},
   "outputs": [],
   "source": [
    "results.columns = [\"model_name\", \"n_teams\", \"n_periods\", \"n_divisions\",\n",
    "                  \"n_venues\", \"n_coaches\", \"time\", \"nodes\", \"nogoods\"]\n",
    "results"
   ]
  },
  {
   "cell_type": "code",
   "execution_count": null,
   "metadata": {},
   "outputs": [],
   "source": [
    "import seaborn as sn\n",
    "import matplotlib.pyplot as plt"
   ]
  },
  {
   "cell_type": "code",
   "execution_count": null,
   "metadata": {},
   "outputs": [],
   "source": [
    "sn.set_style(\"darkgrid\")"
   ]
  },
  {
   "cell_type": "code",
   "execution_count": null,
   "metadata": {},
   "outputs": [],
   "source": [
    "results[\"model_name\"] = results[\"model_name\"].map({\n",
    "    \"model_alldiff_regular\": \"ADR\",\n",
    "    \"model_alldiff_sat\": \"ADI\",\n",
    "    \"model_sums_regular\": \"SCR\",\n",
    "    \"model_sums_sat\": \"SCI\"\n",
    "})"
   ]
  },
  {
   "cell_type": "code",
   "execution_count": null,
   "metadata": {},
   "outputs": [],
   "source": [
    "fig, ax = plt.subplots(1, figsize=(12, 8))\n",
    "\n",
    "sn.lineplot(\n",
    "    x=\"n_teams\",\n",
    "    y=\"time\",\n",
    "    hue=\"model_name\",\n",
    "    data=results\n",
    ").set_title(\"Performance des 4 modèles étudiés selon la complexité du tournoi à planifier\")\n",
    "\n",
    "ax.set_xlabel(\"Nombre d'équipes\")\n",
    "ax.set_ylabel(\"Temps d'exécution (s)\")\n",
    "\n",
    "plt.savefig(\"/Users/Samuel_Levesque/Documents/GitHub/Projet_IFT7020/results/performance_results.png\")"
   ]
  },
  {
   "cell_type": "markdown",
   "metadata": {},
   "source": [
    "# Breaks Analysis"
   ]
  },
  {
   "cell_type": "code",
   "execution_count": null,
   "metadata": {},
   "outputs": [],
   "source": [
    "results = pandas.read_csv(\n",
    "    \"/Users/Samuel_Levesque/Documents/GitHub/Projet_IFT7020/results/test_scenario_breaks/satisfiable.out\",\n",
    "    header=None, sep=\";\")"
   ]
  },
  {
   "cell_type": "code",
   "execution_count": null,
   "metadata": {},
   "outputs": [],
   "source": [
    "results.columns = [\"model_name\", \"time\", \"nodes\", \"nogoods\"]\n",
    "results[\"n_breaks\"] = list(range(1, 11))\n",
    "results"
   ]
  },
  {
   "cell_type": "code",
   "execution_count": null,
   "metadata": {},
   "outputs": [],
   "source": [
    "import seaborn as sn\n",
    "import matplotlib.pyplot as plt"
   ]
  },
  {
   "cell_type": "code",
   "execution_count": null,
   "metadata": {},
   "outputs": [],
   "source": [
    "sn.set_style(\"darkgrid\")"
   ]
  },
  {
   "cell_type": "code",
   "execution_count": null,
   "metadata": {},
   "outputs": [],
   "source": [
    "fig, ax = plt.subplots(1, figsize=(12, 8))\n",
    "\n",
    "sn.lineplot(\n",
    "    x=\"n_breaks\",\n",
    "    y=\"time\",\n",
    "    data=results,\n",
    "    color=\"red\"\n",
    ").set_title(\"Performance du modèle ADR selon le nombre de pauses requises entre deux parties\")\n",
    "\n",
    "ax.set_xlabel(\"Nombre de pauses requises\")\n",
    "ax.set_ylabel(\"Temps d'exécution (s)\")\n",
    "\n",
    "plt.savefig(\"/Users/Samuel_Levesque/Documents/GitHub/Projet_IFT7020/results/breaks_results.png\")"
   ]
  },
  {
   "cell_type": "markdown",
   "metadata": {},
   "source": [
    "# Coaches Analysis"
   ]
  },
  {
   "cell_type": "code",
   "execution_count": null,
   "metadata": {},
   "outputs": [],
   "source": [
    "results = pandas.read_csv(\n",
    "    \"/Users/Samuel_Levesque/Documents/GitHub/Projet_IFT7020/results/test_50_teams_coaches/satisfiable.out\",\n",
    "    header=None, sep=\";\")"
   ]
  },
  {
   "cell_type": "code",
   "execution_count": null,
   "metadata": {},
   "outputs": [],
   "source": [
    "len(results)"
   ]
  },
  {
   "cell_type": "code",
   "execution_count": null,
   "metadata": {},
   "outputs": [],
   "source": [
    "results.columns = [\"model_name\", \"time\", \"nodes\", \"nogoods\"]\n",
    "results[\"n_coaches\"] = list(range(50,37,-1))\n",
    "results"
   ]
  },
  {
   "cell_type": "code",
   "execution_count": null,
   "metadata": {},
   "outputs": [],
   "source": [
    "import seaborn as sn\n",
    "import matplotlib.pyplot as plt"
   ]
  },
  {
   "cell_type": "code",
   "execution_count": null,
   "metadata": {},
   "outputs": [],
   "source": [
    "sn.set_style(\"darkgrid\")"
   ]
  },
  {
   "cell_type": "code",
   "execution_count": null,
   "metadata": {},
   "outputs": [],
   "source": [
    "fig, ax = plt.subplots(1, figsize=(12, 8))\n",
    "\n",
    "sn.lineplot(\n",
    "    x=\"n_coaches\",\n",
    "    y=\"time\",\n",
    "    data=results,\n",
    "    color=\"red\"\n",
    ").set_title(\"Performance du modèle ADR selon le nombre d'entraîneurs\")\n",
    "\n",
    "ax.set_xlabel(\"Nombre d'entaîneurs\")\n",
    "ax.set_ylabel(\"Temps d'exécution (s)\")\n",
    "\n",
    "plt.savefig(\"/Users/Samuel_Levesque/Documents/GitHub/Projet_IFT7020/results/coaches_results.png\")"
   ]
  }
 ],
 "metadata": {
  "kernelspec": {
   "display_name": "Python 3",
   "language": "python",
   "name": "python3"
  },
  "language_info": {
   "codemirror_mode": {
    "name": "ipython",
    "version": 3
   },
   "file_extension": ".py",
   "mimetype": "text/x-python",
   "name": "python",
   "nbconvert_exporter": "python",
   "pygments_lexer": "ipython3",
   "version": "3.7.3"
  }
 },
 "nbformat": 4,
 "nbformat_minor": 2
}
